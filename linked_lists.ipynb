{
 "cells": [
  {
   "cell_type": "markdown",
   "metadata": {},
   "source": [
    "206. Reverse Linked List"
   ]
  },
  {
   "cell_type": "markdown",
   "metadata": {},
   "source": [
    "# 206. Reverse Linked List\n",
    "Given the `head ` of a single linked list, reverse the list, and return the *reversed* list.  \n",
    "Examples:  \n",
    "```\n",
    "Input: head = [1,2,3,4,5]\n",
    "Output: [5,4,3,2,1]\n",
    "\n",
    "Input: head = [1,2]\n",
    "Output: [2,1]\n",
    "\n",
    "Input: head = []\n",
    "Output: []\n",
    "```\n",
    "Constraints:  \n",
    "\n",
    "- The number of nodes in the list is the range `[0, 5000]`.\n",
    "- `-5000 <= Node.val <= 5000`\n",
    "\n",
    "## My idea:\n",
    "Iterate through the linked list and change the outgoing arrow of each node to point to it's previous node, use temperary variables to keep track of the next and the previous nodes.  \n",
    "```\n",
    "p      h   n\n",
    "|      |   |\n",
    "None > 1 > 2 > 3 > 4 > 5 > None\n",
    "\n",
    "       p   h   n\n",
    "       |   |   |\n",
    "None < 1   2 > 3 > 4 > 5 > None\n",
    "\n",
    "           p   h   n\n",
    "           |   |   |\n",
    "None < 1 < 2   3 > 4 > 5 > None\n",
    "\n",
    "...\n",
    "```"
   ]
  },
  {
   "cell_type": "code",
   "execution_count": 5,
   "metadata": {},
   "outputs": [
    {
     "name": "stdout",
     "output_type": "stream",
     "text": [
      "5 4 3 2 1 \n"
     ]
    }
   ],
   "source": [
    "class ListNode(object):\n",
    "    def __init__(self, val=0, next=None):\n",
    "        self.val = val\n",
    "        self.next = next\n",
    "\n",
    "class Solution(object):\n",
    "    def reverseList(self, head):\n",
    "        \"\"\"\n",
    "        :type head: ListNode\n",
    "        :rtype: ListNode\n",
    "        \"\"\"\n",
    "        prev = None\n",
    "        while (head != None):\n",
    "            head_next = head.next   # store the next node to look at, so that we don't lose it after changing the arrow.\n",
    "            head.next = prev        # reverse the outgointg arrow of head to point to the previous node.\n",
    "            prev = head             # we are done with our head. Now it becomes the prevoius node for the next loop.\n",
    "            head = head_next        # finally move the head to the next node that we stored in the beginning of the loop.\n",
    "        return prev\n",
    "    \n",
    "    def test():\n",
    "        # 1 > 2 > 3 > 4 > 5\n",
    "        n4 = ListNode(5, None)\n",
    "        n3 = ListNode(4, n4)\n",
    "        n2 = ListNode(3, n3)\n",
    "        n1 = ListNode(2, n2)\n",
    "        n0 = ListNode(1, n1)\n",
    "        s = Solution()\n",
    "        reversed = s.reverseList(head=n0)\n",
    "        head = reversed\n",
    "        while head != None:\n",
    "            print(head.val, end=\" \")\n",
    "            head = head.next\n",
    "        print()\n",
    "\n",
    "if __name__ == \"__main__\":\n",
    "    Solution.test()\n"
   ]
  },
  {
   "cell_type": "markdown",
   "metadata": {},
   "source": [
    "# 25. Reverse Nodes in k-Group\n",
    "Given a linked list, reverse the nodes of a linked list k at a time and return its modified list.  \n",
    "k is a positive integer and is less than or equal to the length of the linked list. If the number of nodes is not a multiple of k then left-out nodes, in the end, should remain as it is.  \n",
    "You may not alter the values in the list's nodes, only nodes themselves may be changed.  \n",
    "```\n",
    "Input: head = [1,2,3,4,5], k = 2\n",
    "Output: [2,1,4,3,5]\n",
    "\n",
    "Input: head = [1,2,3,4,5], k = 3\n",
    "Output: [3,2,1,4,5]\n",
    "\n",
    "Input: head = [1,2,3,4,5], k = 1\n",
    "Output: [1,2,3,4,5]\n",
    "\n",
    "Input: head = [1], k = 1\n",
    "Output: [1]\n",
    "```\n",
    "\n",
    "Constraints:  \n",
    "\n",
    "- The number of nodes in the list is in the range sz.\n",
    "- `1 <= sz <= 5000`\n",
    "- `0 <= Node.val <= 1000`\n",
    "- `1 <= k <= sz`"
   ]
  },
  {
   "cell_type": "code",
   "execution_count": 26,
   "metadata": {},
   "outputs": [
    {
     "name": "stdout",
     "output_type": "stream",
     "text": [
      "3 2 1 4 5 \n"
     ]
    }
   ],
   "source": [
    "class Solution(object):\n",
    "    def reverseKGroup(self, head, k):\n",
    "        \"\"\"\n",
    "        :type head: ListNode\n",
    "        :type k: int\n",
    "        :rtype: ListNode\n",
    "        \"\"\"\n",
    "        return self.reverse1Group(head, None, k)\n",
    "\n",
    "    def reverse1Group(self, head, prev, k):\n",
    "        # check length\n",
    "        temp = head\n",
    "        for i in range(k):\n",
    "            if temp == None:\n",
    "                return head\n",
    "            temp = temp.next\n",
    "        tail = head\n",
    "        for i in range(k):\n",
    "            head_next = head.next   # store the next node to look at, so that we don't lose it after changing the arrow.\n",
    "            head.next = prev        # reverse the outgointg arrow of head to point to the previous node.\n",
    "            prev = head             # we are done with our head. Now it becomes the prevoius node for the next loop.\n",
    "            head = head_next        # finally move the head to the next node that we stored in the beginning of the loop.\n",
    "        tail.next = self.reverse1Group(head, prev, k)\n",
    "        return prev\n",
    "    \n",
    "    def test():\n",
    "        # 1 > 2 > 3 > 4 > 5\n",
    "        n4 = ListNode(5, None)\n",
    "        n3 = ListNode(4, n4)\n",
    "        n2 = ListNode(3, n3)\n",
    "        n1 = ListNode(2, n2)\n",
    "        n0 = ListNode(1, n1)\n",
    "        s = Solution()\n",
    "        reversed = s.reverseKGroup(n0, 3)\n",
    "        head = reversed\n",
    "        while head != None:\n",
    "            print(head.val, end=\" \")\n",
    "            head = head.next\n",
    "        print()\n",
    "\n",
    "if __name__ == \"__main__\":\n",
    "    Solution.test()\n"
   ]
  }
 ],
 "metadata": {
  "interpreter": {
   "hash": "fe44fef87f92f48a3a32707d0df204585f471652bc0ce87358a3ce712bc24db0"
  },
  "kernelspec": {
   "display_name": "Python 3.9.7 64-bit",
   "name": "python3"
  },
  "language_info": {
   "codemirror_mode": {
    "name": "ipython",
    "version": 3
   },
   "file_extension": ".py",
   "mimetype": "text/x-python",
   "name": "python",
   "nbconvert_exporter": "python",
   "pygments_lexer": "ipython3",
   "version": "3.9.7"
  },
  "orig_nbformat": 4
 },
 "nbformat": 4,
 "nbformat_minor": 2
}
